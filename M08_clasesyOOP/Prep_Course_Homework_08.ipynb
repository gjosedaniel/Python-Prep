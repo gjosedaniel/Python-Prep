{
 "cells": [
  {
   "attachments": {},
   "cell_type": "markdown",
   "metadata": {},
   "source": [
    "## Clases y Programación Orientada a Objetos"
   ]
  },
  {
   "attachments": {},
   "cell_type": "markdown",
   "metadata": {},
   "source": [
    "1) Crear la clase vehículo que contenga los atributos:<br>\n",
    "Color<br>\n",
    "Si es moto, auto, camioneta ó camión<br>\n",
    "Cilindrada del motor"
   ]
  },
  {
   "cell_type": "code",
   "execution_count": 2,
   "metadata": {},
   "outputs": [],
   "source": [
    "class Vehiculo:\n",
    "    \"\"\"\n",
    "    Clase que define vehículos.\n",
    "    Parámetros:\n",
    "    color: define el color del vehículo.\n",
    "    tipo: define que clase de vehículo es.\n",
    "    cilindrada: define la cilindrada del mismo.\n",
    "    \"\"\"\n",
    "\n",
    "    def __init__(self, color, tipo, cilindrada):\n",
    "        self.color = color\n",
    "        self.tipo = tipo\n",
    "        self.cilindrada = cilindrada"
   ]
  },
  {
   "attachments": {},
   "cell_type": "markdown",
   "metadata": {},
   "source": [
    "2) A la clase Vehiculo creada en el punto 1, agregar los siguientes métodos:<br>\n",
    "Acelerar<br>\n",
    "Frenar<br>\n",
    "Doblar<br>"
   ]
  },
  {
   "cell_type": "code",
   "execution_count": 1,
   "metadata": {},
   "outputs": [],
   "source": [
    "class Vehiculo:\n",
    "    \"\"\"\n",
    "    Clase que define vehículos.\n",
    "    Parámetros:\n",
    "    color: define el color del vehículo.\n",
    "    tipo: define que clase de vehículo es.\n",
    "    cilindrada: define la cilindrada del mismo.\n",
    "    \"\"\"\n",
    "\n",
    "    def __init__(self, color, tipo, cilindrada):\n",
    "        self.color = color\n",
    "        self.tipo = tipo\n",
    "        self.cilindrada = cilindrada\n",
    "        self.velocidad = 0\n",
    "        self.direccion = 0\n",
    "    \n",
    "    def acelerar(self, aumento):\n",
    "        self.velocidad += aumento\n",
    "    \n",
    "    def frenar(self, disminucion):\n",
    "        self.velocidad -= disminucion\n",
    "    \n",
    "    def doblar(self, sentido, direccion):\n",
    "        if sentido == \"derecha\":\n",
    "            self.direccion += direccion\n",
    "        \n",
    "        elif sentido == \"izquierda\":\n",
    "            self.direccion -= direccion\n",
    "        \n",
    "        else:\n",
    "            return \"Sentido a doblar incorrecto\"\n"
   ]
  },
  {
   "attachments": {},
   "cell_type": "markdown",
   "metadata": {},
   "source": [
    "3) Instanciar 3 objetos de la clase vehículo y ejecutar sus métodos, probar luego el resultado"
   ]
  },
  {
   "cell_type": "code",
   "execution_count": 13,
   "metadata": {},
   "outputs": [],
   "source": [
    "v1 = Vehiculo(\"Blanco\", \"Auto\", 1.6)\n",
    "v2 = Vehiculo(\"Negro\", \"Camioneta\", 2.5)\n",
    "v3 = Vehiculo(\"Gris\", \"Moto\", 1.1)"
   ]
  },
  {
   "cell_type": "code",
   "execution_count": 15,
   "metadata": {},
   "outputs": [],
   "source": [
    "v1.acelerar(30)\n"
   ]
  },
  {
   "cell_type": "code",
   "execution_count": 16,
   "metadata": {},
   "outputs": [],
   "source": [
    "v1.doblar(\"izquierda\", 20)"
   ]
  },
  {
   "cell_type": "code",
   "execution_count": 17,
   "metadata": {},
   "outputs": [],
   "source": [
    "v1.frenar(20)"
   ]
  },
  {
   "cell_type": "code",
   "execution_count": 18,
   "metadata": {},
   "outputs": [],
   "source": [
    "v1.doblar(\"derecha\", 45)"
   ]
  },
  {
   "cell_type": "code",
   "execution_count": 7,
   "metadata": {},
   "outputs": [
    {
     "data": {
      "text/plain": [
       "'Sentido a doblar incorrecto'"
      ]
     },
     "execution_count": 7,
     "metadata": {},
     "output_type": "execute_result"
    }
   ],
   "source": [
    "v1.doblar(\"arriba\", 20)"
   ]
  },
  {
   "cell_type": "code",
   "execution_count": 19,
   "metadata": {},
   "outputs": [
    {
     "name": "stdout",
     "output_type": "stream",
     "text": [
      "10\n",
      "25\n"
     ]
    }
   ],
   "source": [
    "print(v1.velocidad)\n",
    "print(v1.direccion)"
   ]
  },
  {
   "attachments": {},
   "cell_type": "markdown",
   "metadata": {},
   "source": [
    "4) Agregar a la clase Vehiculo, un método que muestre su estado, es decir, a que velocidad se encuentra y su dirección. Y otro método que muestre color, tipo y cilindrada"
   ]
  },
  {
   "cell_type": "code",
   "execution_count": 11,
   "metadata": {},
   "outputs": [],
   "source": [
    "class Vehiculo:\n",
    "    \"\"\"\n",
    "    Clase que define vehículos.\n",
    "    Parámetros:\n",
    "    color: define el color del vehículo.\n",
    "    tipo: define que clase de vehículo es.\n",
    "    cilindrada: define la cilindrada del mismo.\n",
    "    \"\"\"\n",
    "\n",
    "    def __init__(self, color, tipo, cilindrada):\n",
    "        self.color = color\n",
    "        self.tipo = tipo\n",
    "        self.cilindrada = cilindrada\n",
    "        self.velocidad = 0\n",
    "        self.direccion = 0\n",
    "    \n",
    "    def acelerar(self, aumento):\n",
    "        self.velocidad += aumento\n",
    "    \n",
    "    def frenar(self, disminucion):\n",
    "        self.velocidad -= disminucion\n",
    "    \n",
    "    def doblar(self, sentido, direccion):\n",
    "        if sentido == \"derecha\":\n",
    "            self.direccion += direccion\n",
    "        \n",
    "        elif sentido == \"izquierda\":\n",
    "            self.direccion -= direccion\n",
    "        \n",
    "        else:\n",
    "            return \"Sentido a doblar incorrecto\"\n",
    "        \n",
    "    def estado(self):\n",
    "        print(f\"La velocidad actual es: {self.velocidad} km, y la dirección: {self.direccion} grados.\")\n",
    "\n",
    "    def descripcion(self):\n",
    "        print(f\"Vehículo: {self.tipo}   Color: {self.color}   Cilindrada: {self.cilindrada}\")\n",
    "        "
   ]
  },
  {
   "cell_type": "code",
   "execution_count": 20,
   "metadata": {},
   "outputs": [
    {
     "name": "stdout",
     "output_type": "stream",
     "text": [
      "La velocidad actual es: 10 km, y la dirección: 25 grados.\n",
      "Vehículo: Auto   Color: Blanco   Cilindrada: 1.6\n"
     ]
    }
   ],
   "source": [
    "v1.estado()\n",
    "v1.descripcion()"
   ]
  },
  {
   "attachments": {},
   "cell_type": "markdown",
   "metadata": {},
   "source": [
    "5) Crear una clase que permita utilizar las funciones creadas en la práctica del módulo 7<br>\n",
    "Verificar Primo<br>\n",
    "Valor modal<br>\n",
    "Conversión grados<br>\n",
    "Factorial<br>"
   ]
  },
  {
   "cell_type": "code",
   "execution_count": 10,
   "metadata": {},
   "outputs": [],
   "source": [
    "class Funciones:\n",
    "    def __init__(self) -> None:\n",
    "        pass\n",
    "\n",
    "    def primos (self, num):\n",
    "        \"\"\"\"\n",
    "        Función que recibe un valornumérico y devuelve un valor booleano indicando si es primo o no.\n",
    "        Parámetros:\n",
    "        num (int): El número al que se va a verificar si es primo o no.\n",
    "        Retorna:\n",
    "        primo: True si el número es primo, False en caso contrario.\n",
    "        \"\"\"\n",
    "        primo = True\n",
    "        for n in range (2,num):\n",
    "            if (num % n == 0):\n",
    "                primo = False\n",
    "                break\n",
    "        return primo\n",
    "    \n",
    "    def valor_modal(self, lista):\n",
    "        \"\"\"\"\n",
    "        Función que recibe una lista de números, crea un diccionario con cada valor único y las veces que se repite.\n",
    "        Devuelve el valor modal y la cantidad de veces que se repite.\n",
    "        Parámetros:\n",
    "        lista (list): La lista de números a analizar.\n",
    "        Retorna:\n",
    "        modal: El valor que más se repite.\n",
    "        cantidad: Cuántas veces se repite ese valor en la lista.\n",
    "        \"\"\"\n",
    "        \n",
    "        repeticiones = {}\n",
    "        for num in lista:\n",
    "            if num in repeticiones:\n",
    "                repeticiones[num] += 1\n",
    "            else:\n",
    "                repeticiones[num] = 1\n",
    "        modal = None\n",
    "        cantidad = 0\n",
    "        for num, repeticion in repeticiones.items():\n",
    "            if repeticion > cantidad:\n",
    "                modal = num\n",
    "                cantidad = repeticion\n",
    "        return modal, cantidad\n",
    "    \n",
    "    def conversion(self, temp: float, entrada: str, salida: str):\n",
    "        \"\"\"\"\n",
    "        Función que realiza la conversión de temperaturas entre las distintas escalas.\n",
    "        Parámetros:\n",
    "        temp: el valor de la temperatura que se desea convertir.\n",
    "        entrada: la escala de la temperatura a convertir.\n",
    "        salida: la escala de la temperatura ya convertida.\n",
    "        Retorna: el valor de la temperatura ya convertida.\n",
    "        \"\"\"\n",
    "        if entrada == \"Celsius\":\n",
    "            if salida == \"Celsius\":\n",
    "                return temp\n",
    "            elif salida == \"Fahrenheit\":\n",
    "                return round((temp * 9/5) + 32, 2)\n",
    "            elif salida == \"Kelvin\":\n",
    "                return round(temp + 273.15, 2)\n",
    "        elif entrada == \"Fahrenheit\":\n",
    "            if salida == \"Fahrenheit\":\n",
    "                return temp\n",
    "            elif salida == \"Celsius\":\n",
    "                return round((temp - 32) * 5/9, 2)\n",
    "            elif salida == \"Kelvin\":\n",
    "                return round((temp - 32) * 5/9 + 273.15, 2)\n",
    "        elif entrada == \"Kelvin\":\n",
    "            if salida == \"Kelvin\":\n",
    "                return temp\n",
    "            elif salida == \"Celsius\":\n",
    "                return round(temp - 273.15, 2)\n",
    "            elif salida == \"Fahrenheit\":\n",
    "                return round((temp - 273.15) * 9/5 + 32, 2)\n",
    "        else:\n",
    "            return \"Parámetro inválido. Verifique que las unidades sean: Celsius, Fahrenheit, o Kelvin.\"\n",
    "        \n",
    "    def factorial(self, n):\n",
    "        if type(n) != int:\n",
    "            return \"El valor debe ser un número entero\"\n",
    "        if n < 0:\n",
    "            return \"El número debe ser positivo.\"\n",
    "        elif n == 0:\n",
    "            return 1\n",
    "        elif n > 1:\n",
    "            n = n * self.factorial(n - 1)\n",
    "        return n"
   ]
  },
  {
   "attachments": {},
   "cell_type": "markdown",
   "metadata": {},
   "source": [
    "6) Probar las funciones incorporadas en la clase del punto 5"
   ]
  },
  {
   "cell_type": "code",
   "execution_count": 11,
   "metadata": {},
   "outputs": [],
   "source": [
    "fun = Funciones()"
   ]
  },
  {
   "cell_type": "code",
   "execution_count": 13,
   "metadata": {},
   "outputs": [
    {
     "data": {
      "text/plain": [
       "True"
      ]
     },
     "execution_count": 13,
     "metadata": {},
     "output_type": "execute_result"
    }
   ],
   "source": [
    "fun.primos(13)"
   ]
  },
  {
   "cell_type": "code",
   "execution_count": 4,
   "metadata": {},
   "outputs": [
    {
     "name": "stdout",
     "output_type": "stream",
     "text": [
      "3 5\n"
     ]
    }
   ],
   "source": [
    "lis = [1,2,2,3,3,3,3,3,6,8,10,12,12,12,15,]\n",
    "\n",
    "modal, repes =fun.valor_modal(lis)\n",
    "print(modal, repes)"
   ]
  },
  {
   "cell_type": "code",
   "execution_count": 29,
   "metadata": {},
   "outputs": [
    {
     "data": {
      "text/plain": [
       "290.15"
      ]
     },
     "execution_count": 29,
     "metadata": {},
     "output_type": "execute_result"
    }
   ],
   "source": [
    "fun.conversion(17, \"Celsius\", \"Kelvin\")"
   ]
  },
  {
   "cell_type": "code",
   "execution_count": 30,
   "metadata": {},
   "outputs": [
    {
     "data": {
      "text/plain": [
       "5040"
      ]
     },
     "execution_count": 30,
     "metadata": {},
     "output_type": "execute_result"
    }
   ],
   "source": [
    "fun.factorial(7)"
   ]
  },
  {
   "attachments": {},
   "cell_type": "markdown",
   "metadata": {},
   "source": [
    "7) Es necesario que la clase creada en el punto 5 contenga una lista, sobre la cual se apliquen las funciones incorporadas"
   ]
  },
  {
   "cell_type": "code",
   "execution_count": 43,
   "metadata": {},
   "outputs": [],
   "source": [
    "class Funciones:\n",
    "    def __init__(self, lista):\n",
    "        self.lista = lista\n",
    "\n",
    "    def primos(self):\n",
    "        for i in self.lista:\n",
    "            if(self.__primos(i)):\n",
    "                print(f\"{i} es un número primo\")\n",
    "            else:\n",
    "                print(f\"{i} no es un número primo\")\n",
    "\n",
    "    def conversion(self, entrada, salida):\n",
    "        for i in self.lista:\n",
    "            print(f\"{i} grados {entrada} equivalen a {self.__conversion(i, entrada, salida)}  grados {salida}\")\n",
    "\n",
    "    def factorial(self):\n",
    "        for i in self.lista:\n",
    "            print(f\"El factorial de {i} es {self.__factorial(i)}\")\n",
    "\n",
    "    def __primos (self, num):\n",
    "        \"\"\"\"\n",
    "        Función que recibe un valornumérico y devuelve un valor booleano indicando si es primo o no.\n",
    "        Parámetros:\n",
    "        num (int): El número al que se va a verificar si es primo o no.\n",
    "        Retorna:\n",
    "        primo: True si el número es primo, False en caso contrario.\n",
    "        \"\"\"\n",
    "        primo = True\n",
    "        for n in range (2,num):\n",
    "            if (num % n == 0):\n",
    "                primo = False\n",
    "                break\n",
    "        return primo\n",
    "    \n",
    "    def valor_modal(self, lista):\n",
    "        \"\"\"\"\n",
    "        Función que recibe una lista de números, crea un diccionario con cada valor único y las veces que se repite.\n",
    "        Devuelve el valor modal y la cantidad de veces que se repite.\n",
    "        Parámetros:\n",
    "        lista (list): La lista de números a analizar.\n",
    "        Retorna:\n",
    "        modal: El valor que más se repite.\n",
    "        cantidad: Cuántas veces se repite ese valor en la lista.\n",
    "        \"\"\"\n",
    "        \n",
    "        repeticiones = {}\n",
    "        for num in lista:\n",
    "            if num in repeticiones:\n",
    "                repeticiones[num] += 1\n",
    "            else:\n",
    "                repeticiones[num] = 1\n",
    "        modal = None\n",
    "        cantidad = 0\n",
    "        for num, repeticion in repeticiones.items():\n",
    "            if repeticion > cantidad:\n",
    "                modal = num\n",
    "                cantidad = repeticion\n",
    "        return modal, cantidad\n",
    "    \n",
    "    def __conversion (self, temp, entrada, salida):\n",
    "        \"\"\"\"\n",
    "        Función que realiza la conversión de temperaturas entre las distintas escalas.\n",
    "        Parámetros:\n",
    "        temp: el valor de la temperatura que se desea convertir.\n",
    "        entrada: la escala de la temperatura a convertir.\n",
    "        salida: la escala de la temperatura ya convertida.\n",
    "        Retorna: el valor de la temperatura ya convertida.\n",
    "        \"\"\"\n",
    "        if entrada == \"Celsius\":\n",
    "            if salida == \"Celsius\":\n",
    "                return temp\n",
    "            elif salida == \"Fahrenheit\":\n",
    "                return round((temp * 9/5) + 32, 2)\n",
    "            elif salida == \"Kelvin\":\n",
    "                return round(temp + 273.15, 2)\n",
    "        elif entrada == \"Fahrenheit\":\n",
    "            if salida == \"Fahrenheit\":\n",
    "                return temp\n",
    "            elif salida == \"Celsius\":\n",
    "                return round((temp - 32) * 5/9, 2)\n",
    "            elif salida == \"Kelvin\":\n",
    "                return round((temp - 32) * 5/9 + 273.15, 2)\n",
    "        elif entrada == \"Kelvin\":\n",
    "            if salida == \"Kelvin\":\n",
    "                return temp\n",
    "            elif salida == \"Celsius\":\n",
    "                return round(temp - 273.15, 2)\n",
    "            elif salida == \"Fahrenheit\":\n",
    "                return round((temp - 273.15) * 9/5 + 32, 2)\n",
    "        else:\n",
    "            return \"Parámetro inválido. Verifique que las unidades sean: Celsius, Fahrenheit, o Kelvin.\"\n",
    "        \n",
    "    def __factorial(self, n):\n",
    "        if type(n) != int:\n",
    "            return \"El valor debe ser un número entero\"\n",
    "        if n < 0:\n",
    "            return \"El número debe ser positivo.\"\n",
    "        elif n == 0:\n",
    "            return 1\n",
    "        elif n > 1:\n",
    "            n = n * self.__factorial(n - 1)\n",
    "        return n"
   ]
  },
  {
   "cell_type": "code",
   "execution_count": 44,
   "metadata": {},
   "outputs": [],
   "source": [
    "fu = Funciones([2,3,4,5,7,8,12,13])"
   ]
  },
  {
   "cell_type": "code",
   "execution_count": 34,
   "metadata": {},
   "outputs": [
    {
     "name": "stdout",
     "output_type": "stream",
     "text": [
      "2 es un número primo\n",
      "3 es un número primo\n",
      "4 no es un número primo\n",
      "5 es un número primo\n",
      "7 es un número primo\n",
      "8 no es un número primo\n",
      "12 no es un número primo\n",
      "13 es un número primo\n"
     ]
    }
   ],
   "source": [
    "fu.primos()"
   ]
  },
  {
   "cell_type": "code",
   "execution_count": 46,
   "metadata": {},
   "outputs": [
    {
     "name": "stdout",
     "output_type": "stream",
     "text": [
      "el valor modal es: 2 y se repite 1 veces\n"
     ]
    }
   ],
   "source": [
    "modal, repes = fu.valor_modal([2,3,4,5,7,8,12,13])\n",
    "print(f\"el valor modal es: {modal} y se repite {repes} veces\")"
   ]
  },
  {
   "cell_type": "code",
   "execution_count": 33,
   "metadata": {},
   "outputs": [
    {
     "name": "stdout",
     "output_type": "stream",
     "text": [
      "El factorial de 2 es 2\n",
      "El factorial de 3 es 6\n",
      "El factorial de 4 es 24\n",
      "El factorial de 5 es 120\n",
      "El factorial de 7 es 5040\n",
      "El factorial de 8 es 40320\n",
      "El factorial de 12 es 479001600\n",
      "El factorial de 13 es 6227020800\n"
     ]
    }
   ],
   "source": [
    "fu.factorial()"
   ]
  },
  {
   "attachments": {},
   "cell_type": "markdown",
   "metadata": {},
   "source": [
    "8) Crear un archivo .py aparte y ubicar allí la clase generada en el punto anterior. Luego realizar la importación del módulo y probar alguna de sus funciones"
   ]
  },
  {
   "cell_type": "code",
   "execution_count": 61,
   "metadata": {},
   "outputs": [],
   "source": [
    "import funciones"
   ]
  },
  {
   "cell_type": "code",
   "execution_count": 62,
   "metadata": {},
   "outputs": [],
   "source": [
    "fun = Funciones([1,2,3,6,8,9,11,14])"
   ]
  },
  {
   "cell_type": "code",
   "execution_count": 63,
   "metadata": {},
   "outputs": [
    {
     "name": "stdout",
     "output_type": "stream",
     "text": [
      "1 es un número primo\n",
      "2 es un número primo\n",
      "3 es un número primo\n",
      "6 no es un número primo\n",
      "8 no es un número primo\n",
      "9 no es un número primo\n",
      "11 es un número primo\n",
      "14 no es un número primo\n"
     ]
    }
   ],
   "source": [
    "fun.primos()"
   ]
  },
  {
   "cell_type": "code",
   "execution_count": 64,
   "metadata": {},
   "outputs": [
    {
     "name": "stdout",
     "output_type": "stream",
     "text": [
      "1 grados Celsius equivalen a 274.15  grados Kelvin\n",
      "2 grados Celsius equivalen a 275.15  grados Kelvin\n",
      "3 grados Celsius equivalen a 276.15  grados Kelvin\n",
      "6 grados Celsius equivalen a 279.15  grados Kelvin\n",
      "8 grados Celsius equivalen a 281.15  grados Kelvin\n",
      "9 grados Celsius equivalen a 282.15  grados Kelvin\n",
      "11 grados Celsius equivalen a 284.15  grados Kelvin\n",
      "14 grados Celsius equivalen a 287.15  grados Kelvin\n"
     ]
    }
   ],
   "source": [
    "fun.conversion(\"Celsius\",\"Kelvin\")"
   ]
  }
 ],
 "metadata": {
  "interpreter": {
   "hash": "c85384e4cb51c8b72350f3a8712cc8351fdc3955e32a27f9b60c6242ab125f01"
  },
  "kernelspec": {
   "display_name": "Python 3 (ipykernel)",
   "language": "python",
   "name": "python3"
  },
  "language_info": {
   "codemirror_mode": {
    "name": "ipython",
    "version": 3
   },
   "file_extension": ".py",
   "mimetype": "text/x-python",
   "name": "python",
   "nbconvert_exporter": "python",
   "pygments_lexer": "ipython3",
   "version": "3.11.5"
  }
 },
 "nbformat": 4,
 "nbformat_minor": 4
}
