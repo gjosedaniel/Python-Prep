{
 "cells": [
  {
   "attachments": {},
   "cell_type": "markdown",
   "metadata": {},
   "source": [
    "## Flujos de Control"
   ]
  },
  {
   "attachments": {},
   "cell_type": "markdown",
   "metadata": {},
   "source": [
    "1) Crear una variable que contenga un elemento del conjunto de números enteros y luego imprimir por pantalla si es mayor o menor a cero"
   ]
  },
  {
   "cell_type": "code",
   "execution_count": 3,
   "metadata": {},
   "outputs": [
    {
     "name": "stdout",
     "output_type": "stream",
     "text": [
      "El número es cero.\n"
     ]
    }
   ],
   "source": [
    "n = 15\n",
    "\n",
    "if n > 0:\n",
    "    print(\"El número \",n,\"es mayor a 0\")\n",
    "elif n < 0:\n",
    "    print(\"El número \",n,\"es menor a 0\")\n",
    "else:\n",
    "    print(\"El número es cero.\")"
   ]
  },
  {
   "attachments": {},
   "cell_type": "markdown",
   "metadata": {},
   "source": [
    "2) Crear dos variables y un condicional que informe si son del mismo tipo de dato"
   ]
  },
  {
   "cell_type": "code",
   "execution_count": 5,
   "metadata": {},
   "outputs": [
    {
     "name": "stdout",
     "output_type": "stream",
     "text": [
      "3 y Hola Son del mismo tipo\n"
     ]
    }
   ],
   "source": [
    "a = 3\n",
    "b = \"Hola\"\n",
    "\n",
    "if type(a) == type(b):\n",
    "    print(f\"{a} y {b} Son del mismo tipo\")\n",
    "else:\n",
    "    print(f\"{a} y {b} Son de distinto tipo\")"
   ]
  },
  {
   "attachments": {},
   "cell_type": "markdown",
   "metadata": {},
   "source": [
    "3) Para los valores enteros del 1 al 20, imprimir por pantalla si es par o impar"
   ]
  },
  {
   "cell_type": "code",
   "execution_count": 9,
   "metadata": {},
   "outputs": [
    {
     "name": "stdout",
     "output_type": "stream",
     "text": [
      "1 es impar\n",
      "2 es par\n",
      "3 es impar\n",
      "4 es par\n",
      "5 es impar\n",
      "6 es par\n",
      "7 es impar\n",
      "8 es par\n",
      "9 es impar\n",
      "10 es par\n",
      "11 es impar\n",
      "12 es par\n",
      "13 es impar\n",
      "14 es par\n",
      "15 es impar\n",
      "16 es par\n",
      "17 es impar\n",
      "18 es par\n",
      "19 es impar\n",
      "20 es par\n"
     ]
    }
   ],
   "source": [
    "for i in range (1,21):\n",
    "    if (i%2 == 0):\n",
    "        print(f\"{i} es par\")\n",
    "    else:\n",
    "        print(f\"{i} es impar\")"
   ]
  },
  {
   "attachments": {},
   "cell_type": "markdown",
   "metadata": {},
   "source": [
    "4) En un ciclo for mostrar para los valores entre 0 y 5 el resultado de elevarlo a la potencia igual a 3"
   ]
  },
  {
   "cell_type": "code",
   "execution_count": 10,
   "metadata": {},
   "outputs": [
    {
     "name": "stdout",
     "output_type": "stream",
     "text": [
      "el valor es: 1, y elevado a la potencia 3 resulta: 1\n",
      "el valor es: 2, y elevado a la potencia 3 resulta: 8\n",
      "el valor es: 3, y elevado a la potencia 3 resulta: 27\n",
      "el valor es: 4, y elevado a la potencia 3 resulta: 64\n",
      "el valor es: 5, y elevado a la potencia 3 resulta: 125\n"
     ]
    }
   ],
   "source": [
    "for i in range (1,6):\n",
    "    print(f\"el valor es: {i}, y elevado a la potencia 3 resulta: {i**3}\")"
   ]
  },
  {
   "attachments": {},
   "cell_type": "markdown",
   "metadata": {},
   "source": [
    "5) Crear una variable que contenga un número entero y realizar un ciclo for la misma cantidad de ciclos"
   ]
  },
  {
   "cell_type": "code",
   "execution_count": 12,
   "metadata": {},
   "outputs": [
    {
     "name": "stdout",
     "output_type": "stream",
     "text": [
      "0\n",
      "1\n",
      "2\n",
      "3\n",
      "4\n"
     ]
    }
   ],
   "source": [
    "h =5\n",
    "\n",
    "for i in range (0,h):\n",
    "    print (i)"
   ]
  },
  {
   "attachments": {},
   "cell_type": "markdown",
   "metadata": {},
   "source": [
    "6) Utilizar un ciclo while para realizar el factorial de un número guardado en una variable, sólo si la variable contiene un número entero mayor a 0"
   ]
  },
  {
   "cell_type": "code",
   "execution_count": 19,
   "metadata": {},
   "outputs": [
    {
     "name": "stdout",
     "output_type": "stream",
     "text": [
      "el factorial de 12 es: 479001600\n"
     ]
    }
   ],
   "source": [
    "f = 12\n",
    "aux = f\n",
    "factorial = f\n",
    "if (type(aux) != int):\n",
    "    print (\"El valor ingresado no es un número entero\")\n",
    "elif (aux <= 0):\n",
    "    print(\"El valor ingresado debe ser mayor a 0\")\n",
    "else:\n",
    "    while (aux > 1):\n",
    "        aux -= 1\n",
    "        factorial = factorial*aux\n",
    "print(f\"el factorial de {f} es: {factorial}\")"
   ]
  },
  {
   "attachments": {},
   "cell_type": "markdown",
   "metadata": {},
   "source": [
    "7) Crear un ciclo for dentro de un ciclo while"
   ]
  },
  {
   "cell_type": "code",
   "execution_count": 21,
   "metadata": {},
   "outputs": [
    {
     "name": "stdout",
     "output_type": "stream",
     "text": [
      "ciclo for número 1\n",
      "ciclo for número 2\n",
      "ciclo for número 3\n",
      "ciclo for número 4\n",
      "ciclo for número 5\n",
      "ciclo while número 1\n",
      "ciclo for número 1\n",
      "ciclo for número 2\n",
      "ciclo for número 3\n",
      "ciclo for número 4\n",
      "ciclo for número 5\n",
      "ciclo while número 2\n",
      "ciclo for número 1\n",
      "ciclo for número 2\n",
      "ciclo for número 3\n",
      "ciclo for número 4\n",
      "ciclo for número 5\n",
      "ciclo while número 3\n",
      "ciclo for número 1\n",
      "ciclo for número 2\n",
      "ciclo for número 3\n",
      "ciclo for número 4\n",
      "ciclo for número 5\n",
      "ciclo while número 4\n",
      "ciclo for número 1\n",
      "ciclo for número 2\n",
      "ciclo for número 3\n",
      "ciclo for número 4\n",
      "ciclo for número 5\n",
      "ciclo while número 5\n"
     ]
    }
   ],
   "source": [
    "n = 1\n",
    "\n",
    "while (n <= 5):\n",
    "    for i in range (1,6):\n",
    "        print(f\"ciclo for número {i}\")\n",
    "    print(f\"ciclo while número {n}\")\n",
    "    n += 1"
   ]
  },
  {
   "attachments": {},
   "cell_type": "markdown",
   "metadata": {},
   "source": [
    "8) Crear un ciclo while dentro de un ciclo for"
   ]
  },
  {
   "cell_type": "code",
   "execution_count": 22,
   "metadata": {},
   "outputs": [
    {
     "name": "stdout",
     "output_type": "stream",
     "text": [
      "ciclo for número 1\n",
      "ciclo while número 1\n",
      "ciclo while número 2\n",
      "ciclo while número 3\n",
      "ciclo while número 4\n",
      "ciclo while número 5\n",
      "ciclo for número 2\n",
      "ciclo while número 1\n",
      "ciclo while número 2\n",
      "ciclo while número 3\n",
      "ciclo while número 4\n",
      "ciclo while número 5\n",
      "ciclo for número 3\n",
      "ciclo while número 1\n",
      "ciclo while número 2\n",
      "ciclo while número 3\n",
      "ciclo while número 4\n",
      "ciclo while número 5\n",
      "ciclo for número 4\n",
      "ciclo while número 1\n",
      "ciclo while número 2\n",
      "ciclo while número 3\n",
      "ciclo while número 4\n",
      "ciclo while número 5\n",
      "ciclo for número 5\n",
      "ciclo while número 1\n",
      "ciclo while número 2\n",
      "ciclo while número 3\n",
      "ciclo while número 4\n",
      "ciclo while número 5\n"
     ]
    }
   ],
   "source": [
    "for i in range (1,6):\n",
    "    print(f\"ciclo for número {i}\")\n",
    "    n = 1\n",
    "    while (n <= 5):\n",
    "        print(f\"ciclo while número {n}\")\n",
    "        n += 1"
   ]
  },
  {
   "attachments": {},
   "cell_type": "markdown",
   "metadata": {},
   "source": [
    "9) Imprimir los números primos existentes entre 0 y 30"
   ]
  },
  {
   "cell_type": "code",
   "execution_count": 44,
   "metadata": {},
   "outputs": [
    {
     "name": "stdout",
     "output_type": "stream",
     "text": [
      "El numero 2 es un numero primo\n",
      "El numero 3 es un numero primo\n",
      "El numero 5 es un numero primo\n",
      "El numero 7 es un numero primo\n",
      "El numero 11 es un numero primo\n",
      "El numero 13 es un numero primo\n",
      "El numero 17 es un numero primo\n",
      "El numero 19 es un numero primo\n",
      "El numero 23 es un numero primo\n",
      "El numero 29 es un numero primo\n"
     ]
    }
   ],
   "source": [
    "\n",
    "for i in range (2,31):\n",
    "    for n in range (2,i):\n",
    "        if (i % n == 0):\n",
    "            primo = False\n",
    "    if(primo):\n",
    "        print(f\"El numero {i} es un numero primo\")\n",
    "    primo = True"
   ]
  },
  {
   "attachments": {},
   "cell_type": "markdown",
   "metadata": {},
   "source": [
    "10) ¿Se puede mejorar el proceso del punto 9? Utilizar las sentencias break y/ó continue para tal fin"
   ]
  },
  {
   "cell_type": "code",
   "execution_count": 47,
   "metadata": {},
   "outputs": [
    {
     "name": "stdout",
     "output_type": "stream",
     "text": [
      "El numero 2 es un numero primo\n",
      "El numero 3 es un numero primo\n",
      "El numero 5 es un numero primo\n",
      "El numero 7 es un numero primo\n",
      "El numero 11 es un numero primo\n",
      "El numero 13 es un numero primo\n",
      "El numero 17 es un numero primo\n",
      "El numero 19 es un numero primo\n",
      "El numero 23 es un numero primo\n",
      "El numero 29 es un numero primo\n"
     ]
    }
   ],
   "source": [
    "for i in range (2,31):\n",
    "    for n in range (2,i):\n",
    "        if (i % n == 0):\n",
    "            primo = False\n",
    "            break\n",
    "    if(primo):\n",
    "        print(f\"El numero {i} es un numero primo\")\n",
    "    primo = True"
   ]
  },
  {
   "attachments": {},
   "cell_type": "markdown",
   "metadata": {},
   "source": [
    "11) En los puntos 9 y 10, se diseño un código que encuentra números primos y además se lo optimizó. ¿Es posible saber en qué medida se optimizó?"
   ]
  },
  {
   "cell_type": "code",
   "execution_count": 48,
   "metadata": {},
   "outputs": [
    {
     "name": "stdout",
     "output_type": "stream",
     "text": [
      "El numero 2 es un numero primo\n",
      "El numero 3 es un numero primo\n",
      "El numero 5 es un numero primo\n",
      "El numero 7 es un numero primo\n",
      "El numero 11 es un numero primo\n",
      "El numero 13 es un numero primo\n",
      "El numero 17 es un numero primo\n",
      "El numero 19 es un numero primo\n",
      "El numero 23 es un numero primo\n",
      "El numero 29 es un numero primo\n"
     ]
    }
   ],
   "source": [
    "cont1 =0\n",
    "for i in range (2,31):\n",
    "    for n in range (2,i):\n",
    "        if (i % n == 0):\n",
    "            primo = False\n",
    "            cont1 += 1\n",
    "    if(primo):\n",
    "        print(f\"El numero {i} es un numero primo\")\n",
    "    primo = True"
   ]
  },
  {
   "cell_type": "code",
   "execution_count": 49,
   "metadata": {},
   "outputs": [
    {
     "name": "stdout",
     "output_type": "stream",
     "text": [
      "El numero 2 es un numero primo\n",
      "El numero 3 es un numero primo\n",
      "El numero 5 es un numero primo\n",
      "El numero 7 es un numero primo\n",
      "El numero 11 es un numero primo\n",
      "El numero 13 es un numero primo\n",
      "El numero 17 es un numero primo\n",
      "El numero 19 es un numero primo\n",
      "El numero 23 es un numero primo\n",
      "El numero 29 es un numero primo\n"
     ]
    }
   ],
   "source": [
    "cont2 = 0\n",
    "for i in range (2,31):\n",
    "    for n in range (2,i):\n",
    "        if (i % n == 0):\n",
    "            primo = False\n",
    "            cont2 += 1\n",
    "            break\n",
    "    if(primo):\n",
    "        print(f\"El numero {i} es un numero primo\")\n",
    "    primo = True"
   ]
  },
  {
   "cell_type": "code",
   "execution_count": 53,
   "metadata": {},
   "outputs": [
    {
     "name": "stdout",
     "output_type": "stream",
     "text": [
      "0.36538461538461536\n"
     ]
    }
   ],
   "source": [
    "opt = cont2/cont1\n",
    "print(opt)"
   ]
  },
  {
   "attachments": {},
   "cell_type": "markdown",
   "metadata": {},
   "source": [
    "12) Aplicando continue, armar un ciclo while que solo imprima los valores divisibles por 12, dentro del rango de números de 100 a 300"
   ]
  },
  {
   "cell_type": "code",
   "execution_count": 55,
   "metadata": {},
   "outputs": [
    {
     "name": "stdout",
     "output_type": "stream",
     "text": [
      "108 is divisible por 12\n",
      "120 is divisible por 12\n",
      "132 is divisible por 12\n",
      "144 is divisible por 12\n",
      "156 is divisible por 12\n",
      "168 is divisible por 12\n",
      "180 is divisible por 12\n",
      "192 is divisible por 12\n",
      "204 is divisible por 12\n",
      "216 is divisible por 12\n",
      "228 is divisible por 12\n",
      "240 is divisible por 12\n",
      "252 is divisible por 12\n",
      "264 is divisible por 12\n",
      "276 is divisible por 12\n",
      "288 is divisible por 12\n",
      "300 is divisible por 12\n"
     ]
    }
   ],
   "source": [
    "n = 99\n",
    "while (n <= 300):\n",
    "    n += 1\n",
    "    if ((n % 12) != 0):\n",
    "        continue\n",
    "    else:\n",
    "        print(f\"{n} is divisible por 12\")\n",
    "    "
   ]
  },
  {
   "attachments": {},
   "cell_type": "markdown",
   "metadata": {},
   "source": [
    "13) Utilizar la función **input()** que permite hacer ingresos por teclado, para encontrar números primos y dar la opción al usario de buscar el siguiente"
   ]
  },
  {
   "cell_type": "code",
   "execution_count": 59,
   "metadata": {},
   "outputs": [
    {
     "name": "stdout",
     "output_type": "stream",
     "text": [
      "El numero 2 es un numero primo\n",
      "El numero 3 es un numero primo\n",
      "El numero 5 es un numero primo\n",
      "El numero 7 es un numero primo\n",
      "El numero 11 es un numero primo\n",
      "El numero 13 es un numero primo\n",
      "El numero 17 es un numero primo\n",
      "El numero 19 es un numero primo\n",
      "El numero 23 es un numero primo\n",
      "El numero 29 es un numero primo\n",
      "El numero 31 es un numero primo\n",
      "El numero 37 es un numero primo\n",
      "El numero 41 es un numero primo\n",
      "El numero 43 es un numero primo\n",
      "El numero 47 es un numero primo\n",
      "El numero 53 es un numero primo\n",
      "proceso terminado\n"
     ]
    }
   ],
   "source": [
    "i = 2\n",
    "siguiente = \"s\"\n",
    "while (siguiente == \"s\"):\n",
    "    for n in range (2,i):\n",
    "        if (i % n == 0):\n",
    "            primo = False\n",
    "            cont2 += 1\n",
    "            break\n",
    "    if(primo):\n",
    "        print(f\"El numero {i} es un numero primo\")\n",
    "        siguiente = input(\"Desea seguir? s/n: \")\n",
    "        if (siguiente != \"s\"):\n",
    "            print (\"proceso terminado\")\n",
    "            break\n",
    "    primo = True\n",
    "    i += 1"
   ]
  },
  {
   "attachments": {},
   "cell_type": "markdown",
   "metadata": {},
   "source": [
    "14) Crear un ciclo while que encuentre dentro del rango de 100 a 300 el primer número divisible por 3 y además múltiplo de 6"
   ]
  },
  {
   "cell_type": "code",
   "execution_count": 60,
   "metadata": {},
   "outputs": [
    {
     "name": "stdout",
     "output_type": "stream",
     "text": [
      "El número 102 es divisible por 3 y múltiplo de 6\n"
     ]
    }
   ],
   "source": [
    "n = 100\n",
    "while(n<=300):\n",
    "    if (n % 6 == 0):\n",
    "        print(f\"El número {n} es divisible por 3 y múltiplo de 6\")\n",
    "        break\n",
    "    n += 1"
   ]
  }
 ],
 "metadata": {
  "interpreter": {
   "hash": "c85384e4cb51c8b72350f3a8712cc8351fdc3955e32a27f9b60c6242ab125f01"
  },
  "kernelspec": {
   "display_name": "Python 3 (ipykernel)",
   "language": "python",
   "name": "python3"
  },
  "language_info": {
   "codemirror_mode": {
    "name": "ipython",
    "version": 3
   },
   "file_extension": ".py",
   "mimetype": "text/x-python",
   "name": "python",
   "nbconvert_exporter": "python",
   "pygments_lexer": "ipython3",
   "version": "3.10.7"
  }
 },
 "nbformat": 4,
 "nbformat_minor": 4
}
