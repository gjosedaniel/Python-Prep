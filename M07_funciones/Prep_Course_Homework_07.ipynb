{
 "cells": [
  {
   "attachments": {},
   "cell_type": "markdown",
   "metadata": {},
   "source": [
    "## Funciones"
   ]
  },
  {
   "attachments": {},
   "cell_type": "markdown",
   "metadata": {},
   "source": [
    "1) Crear una función que reciba un número como parámetro y devuelva True si es primo y False si no lo es"
   ]
  },
  {
   "cell_type": "code",
   "execution_count": 45,
   "metadata": {},
   "outputs": [],
   "source": [
    "def primos (num):\n",
    "    \"\"\"\"\n",
    "    Función que recibe un valornumérico y devuelve un valor booleano indicando si es primo o no.\n",
    "    Parámetros:\n",
    "    num (int): El número al que se va a verificar si es primo o no.\n",
    "    Retorna:\n",
    "    primo: True si el número es primo, False en caso contrario.\n",
    "    \"\"\"\n",
    "    primo = True\n",
    "    for n in range (2,num):\n",
    "        if (num % n == 0):\n",
    "            primo = False\n",
    "            break\n",
    "    return primo\n"
   ]
  },
  {
   "cell_type": "code",
   "execution_count": 46,
   "metadata": {},
   "outputs": [
    {
     "name": "stdout",
     "output_type": "stream",
     "text": [
      "False\n"
     ]
    }
   ],
   "source": [
    "print(primos(20))"
   ]
  },
  {
   "attachments": {},
   "cell_type": "markdown",
   "metadata": {},
   "source": [
    "2) Utilizando la función del punto 1, realizar otra función que reciba de parámetro una lista de números y devuelva sólo aquellos que son primos en otra lista"
   ]
  },
  {
   "cell_type": "code",
   "execution_count": 56,
   "metadata": {},
   "outputs": [],
   "source": [
    "def lista_primos (lis):\n",
    "    \"\"\"\"\n",
    "    Función que recibe una lista de números y crea otra lista solo con los números primos de la original.\n",
    "    Parámetros:\n",
    "    lis: lista de números a analizar.\n",
    "    Retorna:\n",
    "    lis_primos: una nueva lista solo con los números primos de la original.\n",
    "    \"\"\"\n",
    "    lis_primos = []\n",
    "    for num in lis:\n",
    "        if primos (num):\n",
    "            lis_primos.append(num)\n",
    "    return lis_primos"
   ]
  },
  {
   "cell_type": "code",
   "execution_count": 57,
   "metadata": {},
   "outputs": [],
   "source": [
    "lista = [2,3,6,7,9,13,20,21]"
   ]
  },
  {
   "cell_type": "code",
   "execution_count": 58,
   "metadata": {},
   "outputs": [
    {
     "name": "stdout",
     "output_type": "stream",
     "text": [
      "[2, 3, 7, 13]\n"
     ]
    }
   ],
   "source": [
    "a = lista_primos(lista)\n",
    "print(a)"
   ]
  },
  {
   "attachments": {},
   "cell_type": "markdown",
   "metadata": {},
   "source": [
    "3) Crear una función que al recibir una lista de números, devuelva el que más se repite y cuántas veces lo hace. Si hay más de un \"más repetido\", que devuelva cualquiera"
   ]
  },
  {
   "cell_type": "code",
   "execution_count": 50,
   "metadata": {},
   "outputs": [],
   "source": [
    "def valor_modal(lista):\n",
    "    \"\"\"\"\n",
    "    Función que recibe una lista de números, crea un diccionario con cada valor único y las veces que se repite.\n",
    "    Devuelve el valor modal y la cantidad de veces que se repite.\n",
    "    Parámetros:\n",
    "    lista (list): La lista de números a analizar.\n",
    "    Retorna:\n",
    "    modal: El valor que más se repite.\n",
    "    cantidad: Cuántas veces se repite ese valor en la lista.\n",
    "    \"\"\"\n",
    "    \n",
    "    repeticiones = {}\n",
    "    for num in lista:\n",
    "        if num in repeticiones:\n",
    "            repeticiones[num] += 1\n",
    "        else:\n",
    "            repeticiones[num] = 1\n",
    "    modal = None\n",
    "    cantidad = 0\n",
    "    for num, repeticion in repeticiones.items():\n",
    "        if repeticion > cantidad:\n",
    "            modal = num\n",
    "            cantidad = repeticion\n",
    "    return modal, cantidad"
   ]
  },
  {
   "cell_type": "code",
   "execution_count": 55,
   "metadata": {},
   "outputs": [],
   "source": [
    "lis = [1,1,5,6,8,10,22,5,6,4,11,9,5]"
   ]
  },
  {
   "cell_type": "code",
   "execution_count": 56,
   "metadata": {},
   "outputs": [
    {
     "name": "stdout",
     "output_type": "stream",
     "text": [
      "(5, 3)\n"
     ]
    }
   ],
   "source": [
    "b = valor_modal(lis)\n",
    "print(b)"
   ]
  },
  {
   "attachments": {},
   "cell_type": "markdown",
   "metadata": {},
   "source": [
    "4) Crear una función que convierta entre grados Celsius, Farenheit y Kelvin<br>\n",
    "Fórmula 1\t: (°C × 9/5) + 32 = °F<br>\n",
    "Fórmula 2\t: °C + 273.15 = °K<br>\n",
    "Debe recibir 3 parámetros: el valor, la medida de orígen y la medida de destino\n"
   ]
  },
  {
   "cell_type": "code",
   "execution_count": 35,
   "metadata": {},
   "outputs": [],
   "source": [
    "def conversion(temp: float, entrada: str, salida: str):\n",
    "    \"\"\"\"\n",
    "    Función que realiza la conversión de temperaturas entre las distintas escalas.\n",
    "    Parámetros:\n",
    "    temp: el valor de la temperatura que se desea convertir.\n",
    "    entrada: la escala de la temperatura a convertir.\n",
    "    salida: la escala de la temperatura ya convertida.\n",
    "    Retorna: el valor de la temperatura ya convertida.\n",
    "    \"\"\"\n",
    "    if entrada == \"Celsius\":\n",
    "        if salida == \"Celsius\":\n",
    "            return temp\n",
    "        elif salida == \"Fahrenheit\":\n",
    "            return round((temp * 9/5) + 32, 2)\n",
    "        elif salida == \"Kelvin\":\n",
    "            return round(temp + 273.15, 2)\n",
    "    elif entrada == \"Fahrenheit\":\n",
    "        if salida == \"Fahrenheit\":\n",
    "            return temp\n",
    "        elif salida == \"Celsius\":\n",
    "            return round((temp - 32) * 5/9, 2)\n",
    "        elif salida == \"Kelvin\":\n",
    "            return round((temp - 32) * 5/9 + 273.15, 2)\n",
    "    elif entrada == \"Kelvin\":\n",
    "        if salida == \"Kelvin\":\n",
    "            return temp\n",
    "        elif salida == \"Celsius\":\n",
    "            return round(temp - 273.15, 2)\n",
    "        elif salida == \"Fahrenheit\":\n",
    "            return round((temp - 273.15) * 9/5 + 32, 2)\n",
    "    else:\n",
    "        return \"Parámetro inválido. Verifique que las unidades sean: Celsius, Fahrenheit, o Kelvin.\""
   ]
  },
  {
   "cell_type": "code",
   "execution_count": 34,
   "metadata": {},
   "outputs": [
    {
     "name": "stdout",
     "output_type": "stream",
     "text": [
      "33.8\n"
     ]
    }
   ],
   "source": [
    "a = conversion(1, \"Celsius\", \"Fahrenheit\")\n",
    "print (a)"
   ]
  },
  {
   "attachments": {},
   "cell_type": "markdown",
   "metadata": {},
   "source": [
    "5) Iterando una lista con los tres valores posibles de temperatura que recibe la función del punto 5, hacer un print para cada combinación de los mismos:"
   ]
  },
  {
   "cell_type": "code",
   "execution_count": 36,
   "metadata": {},
   "outputs": [
    {
     "name": "stdout",
     "output_type": "stream",
     "text": [
      "1 grado Celsius equivale a: 1 Celsius\n",
      "1 grado Celsius equivale a: 33.8 Fahrenheit\n",
      "1 grado Celsius equivale a: 274.15 Kelvin\n",
      "1 grado Fahrenheit equivale a: -17.22 Celsius\n",
      "1 grado Fahrenheit equivale a: 1 Fahrenheit\n",
      "1 grado Fahrenheit equivale a: 255.93 Kelvin\n",
      "1 grado Kelvin equivale a: -272.15 Celsius\n",
      "1 grado Kelvin equivale a: -457.87 Fahrenheit\n",
      "1 grado Kelvin equivale a: 1 Kelvin\n"
     ]
    }
   ],
   "source": [
    "escalas = [\"Celsius\", \"Fahrenheit\", \"Kelvin\"]\n",
    "\n",
    "for i, elem in enumerate(escalas):\n",
    "    for j, elem in enumerate(escalas):\n",
    "        print(f\"1 grado {escalas[i]} equivale a: {conversion(1, escalas[i],escalas[j])} {escalas[j]}\")"
   ]
  },
  {
   "attachments": {},
   "cell_type": "markdown",
   "metadata": {},
   "source": [
    "6) Armar una función que devuelva el factorial de un número. Tener en cuenta que el usuario puede equivocarse y enviar de parámetro un número no entero o negativo"
   ]
  },
  {
   "cell_type": "code",
   "execution_count": 57,
   "metadata": {},
   "outputs": [],
   "source": [
    "def factorial(n: int):\n",
    "    if type(n) != int:\n",
    "        return \"El valor debe ser un número entero\"\n",
    "    if n < 0:\n",
    "        return \"El número debe ser positivo.\"\n",
    "    elif n == 0:\n",
    "        return 1\n",
    "    else:\n",
    "        return n * factorial(n - 1)"
   ]
  },
  {
   "cell_type": "code",
   "execution_count": 58,
   "metadata": {},
   "outputs": [
    {
     "data": {
      "text/plain": [
       "720"
      ]
     },
     "execution_count": 58,
     "metadata": {},
     "output_type": "execute_result"
    }
   ],
   "source": [
    "factorial(6)"
   ]
  }
 ],
 "metadata": {
  "interpreter": {
   "hash": "c85384e4cb51c8b72350f3a8712cc8351fdc3955e32a27f9b60c6242ab125f01"
  },
  "kernelspec": {
   "display_name": "Python 3 (ipykernel)",
   "language": "python",
   "name": "python3"
  },
  "language_info": {
   "codemirror_mode": {
    "name": "ipython",
    "version": 3
   },
   "file_extension": ".py",
   "mimetype": "text/x-python",
   "name": "python",
   "nbconvert_exporter": "python",
   "pygments_lexer": "ipython3",
   "version": "3.10.7"
  }
 },
 "nbformat": 4,
 "nbformat_minor": 4
}
